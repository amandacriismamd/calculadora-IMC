{
  "nbformat": 4,
  "nbformat_minor": 0,
  "metadata": {
    "colab": {
      "provenance": [],
      "authorship_tag": "ABX9TyMh3hTGUaaZdoInsWb2GZEP",
      "include_colab_link": true
    },
    "kernelspec": {
      "name": "python3",
      "display_name": "Python 3"
    },
    "language_info": {
      "name": "python"
    }
  },
  "cells": [
    {
      "cell_type": "markdown",
      "metadata": {
        "id": "view-in-github",
        "colab_type": "text"
      },
      "source": [
        "<a href=\"https://colab.research.google.com/github/amandacriismamd/calculadora-IMC/blob/main/logicadeprog_atividade1.ipynb\" target=\"_parent\"><img src=\"https://colab.research.google.com/assets/colab-badge.svg\" alt=\"Open In Colab\"/></a>"
      ]
    },
    {
      "cell_type": "markdown",
      "source": [
        "o somatório dos 5 primeiros números e positivos:"
      ],
      "metadata": {
        "id": "pQERaxuS1F-Z"
      }
    },
    {
      "cell_type": "code",
      "execution_count": 1,
      "metadata": {
        "id": "ef1DGHYS4yM2",
        "colab": {
          "base_uri": "https://localhost:8080/"
        },
        "outputId": "294aa232-0a52-48b1-e013-f5c0ee4dc296"
      },
      "outputs": [
        {
          "output_type": "stream",
          "name": "stdout",
          "text": [
            "15\n"
          ]
        }
      ],
      "source": [
        "print(1 + 2 + 3 + 4 + 5)"
      ]
    },
    {
      "cell_type": "markdown",
      "source": [
        "A média entre 23, 19 e 31:"
      ],
      "metadata": {
        "id": "tO7EF6yH1cKh"
      }
    },
    {
      "cell_type": "code",
      "source": [
        "print((23 + 19 + 31)/3)"
      ],
      "metadata": {
        "colab": {
          "base_uri": "https://localhost:8080/"
        },
        "id": "CPPpWgyW1eQa",
        "outputId": "a20ac00a-00a7-4eae-9017-f38ad81b236b"
      },
      "execution_count": 3,
      "outputs": [
        {
          "output_type": "stream",
          "name": "stdout",
          "text": [
            "24.333333333333332\n"
          ]
        }
      ]
    },
    {
      "cell_type": "markdown",
      "source": [
        "O número de vezes que 73 cabe em 403:"
      ],
      "metadata": {
        "id": "4jvpqdzM18RJ"
      }
    },
    {
      "cell_type": "code",
      "source": [
        "print(403 // 73)"
      ],
      "metadata": {
        "colab": {
          "base_uri": "https://localhost:8080/"
        },
        "id": "s2wcQITB19ky",
        "outputId": "e0298d36-3c72-41b8-92b5-b9f9d0277a02"
      },
      "execution_count": 4,
      "outputs": [
        {
          "output_type": "stream",
          "name": "stdout",
          "text": [
            "5\n"
          ]
        }
      ]
    },
    {
      "cell_type": "markdown",
      "source": [
        "A sobra quando 403 é dividido por 73: usar ** % **- módulo - para pegar o resto"
      ],
      "metadata": {
        "id": "sGgAA5x22fN4"
      }
    },
    {
      "cell_type": "code",
      "source": [
        "print(403 % 73)"
      ],
      "metadata": {
        "colab": {
          "base_uri": "https://localhost:8080/"
        },
        "id": "T03XbkHY2lji",
        "outputId": "aa5d1acd-d30e-45c4-b24f-abf06e6d64b8"
      },
      "execution_count": 5,
      "outputs": [
        {
          "output_type": "stream",
          "name": "stdout",
          "text": [
            "38\n"
          ]
        }
      ]
    },
    {
      "cell_type": "markdown",
      "source": [
        "  2 elevado à 10ª potência:"
      ],
      "metadata": {
        "id": "ze7Qqxq23g04"
      }
    },
    {
      "cell_type": "code",
      "source": [
        "print(2 ** 10)"
      ],
      "metadata": {
        "colab": {
          "base_uri": "https://localhost:8080/"
        },
        "id": "oxwj4Gld3k9Q",
        "outputId": "de382fea-c500-4939-cfad-142101b0300e"
      },
      "execution_count": 6,
      "outputs": [
        {
          "output_type": "stream",
          "name": "stdout",
          "text": [
            "1024\n"
          ]
        }
      ]
    },
    {
      "cell_type": "markdown",
      "source": [
        "O valor absoluto da diferença entre 54 e 57:* usei abs para me dar o valor absoluto da diferença entre 54 e 57*"
      ],
      "metadata": {
        "id": "k4nxJRrU323o"
      }
    },
    {
      "cell_type": "code",
      "source": [
        "print(abs(54 - 57))"
      ],
      "metadata": {
        "colab": {
          "base_uri": "https://localhost:8080/"
        },
        "id": "gRKmy4Vn36wZ",
        "outputId": "e4e3a295-46f7-4513-f1d7-6d372fcb54c9"
      },
      "execution_count": 8,
      "outputs": [
        {
          "output_type": "stream",
          "name": "stdout",
          "text": [
            "3\n"
          ]
        }
      ]
    },
    {
      "cell_type": "markdown",
      "source": [
        "O menor valor entre 34, 29 e 31:"
      ],
      "metadata": {
        "id": "7oexS7h34YHg"
      }
    },
    {
      "cell_type": "code",
      "source": [
        "print(min(34, 29, 31))"
      ],
      "metadata": {
        "colab": {
          "base_uri": "https://localhost:8080/"
        },
        "id": "AWApqoRb4iNX",
        "outputId": "6f142793-15fc-44d9-9d74-7609fd47f954"
      },
      "execution_count": 9,
      "outputs": [
        {
          "output_type": "stream",
          "name": "stdout",
          "text": [
            "29\n"
          ]
        }
      ]
    }
  ]
}