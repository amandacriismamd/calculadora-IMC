{
  "nbformat": 4,
  "nbformat_minor": 0,
  "metadata": {
    "colab": {
      "provenance": [],
      "authorship_tag": "ABX9TyOPaS2aRdtAesbOgfZKhIx9",
      "include_colab_link": true
    },
    "kernelspec": {
      "name": "python3",
      "display_name": "Python 3"
    },
    "language_info": {
      "name": "python"
    }
  },
  "cells": [
    {
      "cell_type": "markdown",
      "metadata": {
        "id": "view-in-github",
        "colab_type": "text"
      },
      "source": [
        "<a href=\"https://colab.research.google.com/github/amandacriismamd/calculadora-IMC/blob/main/lanchonete_da_mandy.ipynb\" target=\"_parent\"><img src=\"https://colab.research.google.com/assets/colab-badge.svg\" alt=\"Open In Colab\"/></a>"
      ]
    },
    {
      "cell_type": "code",
      "source": [
        "print('Lanchonete da Mandy')\n",
        "print('item 1 - Coxinha R$ 5,00')\n",
        "print('item 2 - Pastel R$ 7,00')\n",
        "print('item 3 - Café R$ 4,00')\n",
        "print('item 4 - Suco R$ 6,00')\n",
        "print('item 5 - Sair')\n",
        "\n",
        "total = 0\n",
        "while True:\n",
        "  op = int(input('Qual item gostaria de comprar?'))\n",
        "\n",
        "\n",
        "  if (op == 1):\n",
        "    qtd = int(input('Quantas unidades comprar?'))\n",
        "    total = total + qtd * 5.00\n",
        "\n",
        "  elif (op == 2):\n",
        "    qtd = int(input('Quantas unidades comprar?'))\n",
        "    total = total + qtd * 7.00\n",
        "\n",
        "\n",
        "  elif (op == 3):\n",
        "    qtd = int(input('Quantas unidades comprar?'))\n",
        "    total = total + qtd * 4.00\n",
        "\n",
        "\n",
        "  elif(op == 4):\n",
        "    qtd = int(input('Quantas unidades comprar?'))\n",
        "    total = total + qtd * 6.00\n",
        "\n",
        "  elif(op == 5):\n",
        "    break\n",
        "\n",
        "  else:\n",
        "    print('Produto inválido. Selecione uma opção!')\n",
        "\n",
        "print(f'O total a ser gasto é de: R${total}')\n",
        "\n",
        "\n",
        "\n",
        "\n"
      ],
      "metadata": {
        "colab": {
          "base_uri": "https://localhost:8080/"
        },
        "id": "-OXvK-hG-D0b",
        "outputId": "61f6cdd9-d45b-4369-cfb4-3c2bc9589ba0"
      },
      "execution_count": null,
      "outputs": [
        {
          "output_type": "stream",
          "name": "stdout",
          "text": [
            "Lanchonete da Mandy\n",
            "item 1 - Coxinha R$ 5,00\n",
            "item 2 - Pastel R$ 7,00\n",
            "item 3 - Café R$ 4,00\n",
            "item 4 - Suco R$ 6,00\n",
            "item 5 - Sair\n"
          ]
        }
      ]
    }
  ]
}